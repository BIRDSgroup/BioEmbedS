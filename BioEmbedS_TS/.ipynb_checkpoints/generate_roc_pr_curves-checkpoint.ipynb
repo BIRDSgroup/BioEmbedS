{
 "cells": [
  {
   "cell_type": "code",
   "execution_count": 1,
   "metadata": {},
   "outputs": [],
   "source": [
    "import numpy as np\n",
    "import matplotlib.pyplot as plt\n",
    "from sklearn.metrics import roc_curve\n",
    "from sklearn.metrics import roc_auc_score\n",
    "from sklearn.metrics import auc\n",
    "from sklearn.metrics import precision_recall_curve\n",
    "\n",
    "\n",
    "f1, axes1 = plt.subplots(figsize=(5,5))\n",
    "f2, axes2 = plt.subplots(figsize=(5,5))\n",
    "for i in range(5):\n",
    "    y_test = np.load('./output/ts_y_fold_'+str(i)+'.npy')\n",
    "    y_pred = np.load('./output/ts_y_pred_fold_'+str(i)+'.npy')\n",
    "    y_prob = np.load('./output/ts_y_dec_score_fold_'+str(i)+'.npy')\n",
    "    \n",
    "    fpr, tpr, thresholds = roc_curve(y_test, y_prob)\n",
    "    roc_lab = 'Fold %d AUC=%.4f' % (i+1, roc_auc_score(y_test, y_prob))\n",
    "    axes1.step(fpr, tpr, label=roc_lab)\n",
    "    \n",
    "    precision, recall, _ = precision_recall_curve(y_test, y_prob)\n",
    "    pr_lab = 'Fold %d AUC=%.4f' % (i+1, auc(recall, precision))\n",
    "    axes2.step(recall, precision, label=pr_lab)\n",
    "    \n",
    "axes1.plot([0, 1], [0, 1], 'k--')\n",
    "axes1.set_xlabel('False Positive Rate')\n",
    "axes1.set_ylabel('True Positive Rate')\n",
    "axes1.set_title(\"Receiver Operating Characteristics Curve\")\n",
    "axes1.legend(loc='lower right', fontsize='small')\n",
    "\n",
    "\n",
    "no_skill = len(y_test[y_test==1]) / len(y_test)\n",
    "axes2.plot([0, 1], [no_skill, no_skill], linestyle='--', label='Random')    \n",
    "axes2.set_xlabel('Recall')\n",
    "axes2.set_ylabel('Precision')\n",
    "axes2.legend(loc='upper right', fontsize='small')\n",
    "axes2.set_title(\"Precision Recall curve\")\n",
    "    \n",
    "#f1.savefig('./output/BioEmbedS_roc.pdf')\n",
    "#f2.savefig('./output/BioEmbedS_pr.pdf')"
   ]
  },
  {
   "cell_type": "code",
   "execution_count": null,
   "metadata": {},
   "outputs": [],
   "source": []
  }
 ],
 "metadata": {
  "kernelspec": {
   "display_name": "Python 3",
   "language": "python",
   "name": "python3"
  },
  "language_info": {
   "codemirror_mode": {
    "name": "ipython",
    "version": 3
   },
   "file_extension": ".py",
   "mimetype": "text/x-python",
   "name": "python",
   "nbconvert_exporter": "python",
   "pygments_lexer": "ipython3",
   "version": "3.7.3"
  }
 },
 "nbformat": 4,
 "nbformat_minor": 2
}
