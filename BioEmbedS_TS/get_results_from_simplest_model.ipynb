{
 "cells": [
  {
   "cell_type": "code",
   "execution_count": 28,
   "metadata": {},
   "outputs": [
    {
     "name": "stderr",
     "output_type": "stream",
     "text": [
      "Warning : `load_model` does not return WordVectorModel or SupervisedModel any more, but a `FastText` object which is very similar.\n"
     ]
    }
   ],
   "source": [
    "import json\n",
    "import csv\n",
    "import numpy as np\n",
    "import math\n",
    "import fasttext\n",
    "from sklearn.svm import SVC\n",
    "from sklearn.metrics import cohen_kappa_score\n",
    "from sklearn.metrics import roc_curve\n",
    "from sklearn.metrics import roc_auc_score\n",
    "from sklearn.metrics import auc\n",
    "from sklearn.metrics import precision_recall_curve\n",
    "from sklearn.metrics import classification_report, confusion_matrix\n",
    "\n",
    "with open('./dataset/hgv1_source_hormone_gene_bins.json') as json_file:\n",
    "    src_hormone_gene_bins = json.load(json_file)\n",
    "    \n",
    "with open('./dataset/hgv1_target_hormone_gene_bins.json') as json_file:\n",
    "    tgt_hormone_gene_bins = json.load(json_file)\n",
    "    \n",
    "with open('./dataset/hgv1_hormone_src_tgt_genes.json') as json_file:\n",
    "    hormone_src_tgt_genes = json.load(json_file)\n",
    "    \n",
    "model = fasttext.load_model(\"../BioWordVec_PubMed_MIMICIII_d200.bin\")"
   ]
  },
  {
   "cell_type": "code",
   "execution_count": 29,
   "metadata": {},
   "outputs": [],
   "source": [
    "def transform_X_values(data_dict,train_marked):\n",
    "    embeddings = []\n",
    "    for hormone in data_dict.keys():\n",
    "        if train_marked[hormone] == 1:\n",
    "            if \"/\" in hormone:\n",
    "                np1 = alias_embeddings[hormone]\n",
    "            else:\n",
    "                np1 = model.get_word_vector(hormone)\n",
    "            for gene in data_dict[hormone]:\n",
    "                np2 = model.get_word_vector(gene)\n",
    "                embeddings.append(np.concatenate([np1,np2]))\n",
    "    return np.array(embeddings)\n",
    "\n",
    "alias_embeddings = dict()\n",
    "for hormone in hormone_src_tgt_genes.keys():\n",
    "    if \"/\" in hormone:\n",
    "        parts = hormone.split(\"/\")\n",
    "        w1 = model.get_word_vector(parts[0])\n",
    "        w2 = model.get_word_vector(parts[1])\n",
    "        alias_embeddings[hormone] = np.add(w1,w2)"
   ]
  },
  {
   "cell_type": "code",
   "execution_count": 30,
   "metadata": {},
   "outputs": [
    {
     "name": "stdout",
     "output_type": "stream",
     "text": [
      "Testing results: fold-0\n",
      "0.5378398236590742\n",
      "[[154  21]\n",
      " [ 30  54]]\n",
      "              precision    recall  f1-score   support\n",
      "\n",
      "           0       0.84      0.88      0.86       175\n",
      "           1       0.72      0.64      0.68        84\n",
      "\n",
      "    accuracy                           0.80       259\n",
      "   macro avg       0.78      0.76      0.77       259\n",
      "weighted avg       0.80      0.80      0.80       259\n",
      "\n",
      "ROC-AUC score: 0.8385034013605444\n",
      "PR-AUC score: 0.7334788351750007\n",
      "Testing results: fold-1\n",
      "0.47919198055893075\n",
      "[[155  19]\n",
      " [ 35  45]]\n",
      "              precision    recall  f1-score   support\n",
      "\n",
      "           0       0.82      0.89      0.85       174\n",
      "           1       0.70      0.56      0.62        80\n",
      "\n",
      "    accuracy                           0.79       254\n",
      "   macro avg       0.76      0.73      0.74       254\n",
      "weighted avg       0.78      0.79      0.78       254\n",
      "\n",
      "ROC-AUC score: 0.8297413793103449\n",
      "PR-AUC score: 0.6621598244684517\n",
      "Testing results: fold-2\n",
      "0.4584511887470376\n",
      "[[153  21]\n",
      " [ 35  44]]\n",
      "              precision    recall  f1-score   support\n",
      "\n",
      "           0       0.81      0.88      0.85       174\n",
      "           1       0.68      0.56      0.61        79\n",
      "\n",
      "    accuracy                           0.78       253\n",
      "   macro avg       0.75      0.72      0.73       253\n",
      "weighted avg       0.77      0.78      0.77       253\n",
      "\n",
      "ROC-AUC score: 0.7949949076094864\n",
      "PR-AUC score: 0.6338716786118718\n",
      "Testing results: fold-3\n",
      "0.509396107804454\n",
      "[[150  29]\n",
      " [ 27  56]]\n",
      "              precision    recall  f1-score   support\n",
      "\n",
      "           0       0.85      0.84      0.84       179\n",
      "           1       0.66      0.67      0.67        83\n",
      "\n",
      "    accuracy                           0.79       262\n",
      "   macro avg       0.75      0.76      0.75       262\n",
      "weighted avg       0.79      0.79      0.79       262\n",
      "\n",
      "ROC-AUC score: 0.8514504947162953\n",
      "PR-AUC score: 0.751447073021953\n",
      "Testing results: fold-4\n",
      "0.5011143863685383\n",
      "[[153  20]\n",
      " [ 34  50]]\n",
      "              precision    recall  f1-score   support\n",
      "\n",
      "           0       0.82      0.88      0.85       173\n",
      "           1       0.71      0.60      0.65        84\n",
      "\n",
      "    accuracy                           0.79       257\n",
      "   macro avg       0.77      0.74      0.75       257\n",
      "weighted avg       0.78      0.79      0.78       257\n",
      "\n",
      "ROC-AUC score: 0.8693916873107624\n",
      "PR-AUC score: 0.7525761602001073\n"
     ]
    }
   ],
   "source": [
    "for i in range(5):\n",
    "    X_train = np.load('./dataset/X_train_val_fold_'+str(i)+'.npy')\n",
    "    y_train = np.load('./dataset/y_train_val_fold_'+str(i)+'.npy')\n",
    "    with open('./dataset/train_val_marking_fold_'+str(i)+'.json') as json_file:\n",
    "        train_marked = json.load(json_file)\n",
    "    classifier = SVC(kernel='poly',C=1.0,degree=3)\n",
    "    classifier.fit(X_train,y_train)\n",
    "    \n",
    "    src_test_data = src_hormone_gene_bins[str(i)]\n",
    "    tgt_test_data = tgt_hormone_gene_bins[str(i)]\n",
    "    X_test_src = transform_X_values(src_test_data,train_marked)\n",
    "    X_test_tgt = transform_X_values(tgt_test_data,train_marked)\n",
    "    X_test = np.concatenate([X_test_src,X_test_tgt])\n",
    "    y_test_src = np.ones((X_test_src.shape[0],), dtype=int)\n",
    "    y_test_tgt = np.zeros((X_test_tgt.shape[0],), dtype=int)\n",
    "    y_test = np.concatenate([y_test_src, y_test_tgt])\n",
    "    \n",
    "    y_pred_test = classifier.predict(X_test)\n",
    "    y_dec_score_test = classifier.decision_function(X_test)\n",
    "    \n",
    "    print(\"Testing results: fold-\"+str(i))\n",
    "    print(cohen_kappa_score(y_test,y_pred_test))\n",
    "    print(confusion_matrix(y_test, y_pred_test))\n",
    "    print(classification_report(y_test, y_pred_test))\n",
    "    print(\"ROC-AUC score: \"+str(roc_auc_score(y_test, y_dec_score_test)))\n",
    "    precision, recall, _ = precision_recall_curve(y_test, y_dec_score_test)\n",
    "    print(\"PR-AUC score: \"+str(auc(recall, precision)))"
   ]
  },
  {
   "cell_type": "code",
   "execution_count": 16,
   "metadata": {},
   "outputs": [
    {
     "name": "stdout",
     "output_type": "stream",
     "text": [
      "{'aldosterone': 0, 'cortisol': 0, 'estrogen': 1, 'glucagon': 0, 'insulin': 1, 'luteinizing hormone': 0, 'progesterone': 1, 'prolactin': 0, 'prostaglandins': 1, 'somatostatin': 0, 'testosterone': 1, 'triiodothyronin t3': 0, 'thyroxine t4': 0, 'adrenocorticotropin': 0, 'vascular endothelial growth factor': 1, 'norepinephrine': 1, 'adiponectin': 1, 'adrenaline/epinephrine': 0, 'somatotrophin/growth hormone': 1, 'serotonin/5-hydroxytryptamine': 1, 'vitamin d/calciferol': 1, 'follicle-stimulating hormone/follitropin': 0}\n",
      "{'aldosterone': 0, 'cortisol': 0, 'estrogen': 1, 'glucagon': 0, 'insulin': 1, 'luteinizing hormone': 0, 'progesterone': 1, 'prolactin': 0, 'prostaglandins': 1, 'somatostatin': 0, 'testosterone': 1, 'triiodothyronin t3': 0, 'thyroxine t4': 0, 'adrenocorticotropin': 0, 'vascular endothelial growth factor': 1, 'norepinephrine': 1, 'adiponectin': 0, 'adrenaline/epinephrine': 0, 'somatotrophin/growth hormone': 1, 'serotonin/5-hydroxytryptamine': 1, 'vitamin d/calciferol': 1, 'follicle-stimulating hormone/follitropin': 0}\n",
      "{'aldosterone': 0, 'cortisol': 0, 'estrogen': 1, 'glucagon': 0, 'insulin': 1, 'luteinizing hormone': 0, 'progesterone': 1, 'prolactin': 0, 'prostaglandins': 1, 'somatostatin': 0, 'testosterone': 1, 'triiodothyronin t3': 0, 'thyroxine t4': 0, 'adrenocorticotropin': 0, 'vascular endothelial growth factor': 1, 'norepinephrine': 1, 'adiponectin': 1, 'adrenaline/epinephrine': 0, 'somatotrophin/growth hormone': 1, 'serotonin/5-hydroxytryptamine': 1, 'vitamin d/calciferol': 1, 'follicle-stimulating hormone/follitropin': 0}\n",
      "{'aldosterone': 0, 'cortisol': 1, 'estrogen': 1, 'glucagon': 0, 'insulin': 1, 'luteinizing hormone': 0, 'progesterone': 1, 'prolactin': 0, 'prostaglandins': 1, 'somatostatin': 0, 'testosterone': 1, 'triiodothyronin t3': 0, 'thyroxine t4': 0, 'adrenocorticotropin': 0, 'vascular endothelial growth factor': 1, 'norepinephrine': 1, 'adiponectin': 0, 'adrenaline/epinephrine': 0, 'somatotrophin/growth hormone': 1, 'serotonin/5-hydroxytryptamine': 1, 'vitamin d/calciferol': 1, 'follicle-stimulating hormone/follitropin': 0}\n",
      "{'aldosterone': 0, 'cortisol': 1, 'estrogen': 1, 'glucagon': 0, 'insulin': 1, 'luteinizing hormone': 0, 'progesterone': 1, 'prolactin': 0, 'prostaglandins': 1, 'somatostatin': 0, 'testosterone': 1, 'triiodothyronin t3': 0, 'thyroxine t4': 0, 'adrenocorticotropin': 0, 'vascular endothelial growth factor': 1, 'norepinephrine': 1, 'adiponectin': 0, 'adrenaline/epinephrine': 0, 'somatotrophin/growth hormone': 1, 'serotonin/5-hydroxytryptamine': 1, 'vitamin d/calciferol': 1, 'follicle-stimulating hormone/follitropin': 0}\n"
     ]
    }
   ],
   "source": [
    "for i in range(5):\n",
    "    np_load_old = np.load\n",
    "    np.load = lambda *a,**k: np_load_old(*a, allow_pickle=True, **k)\n",
    "    train_marked = np.load('./dataset/train_val_markings_fold_'+str(i)+'.npy')\n",
    "    print(train_marked)\n",
    "    np.load = np_load_old"
   ]
  },
  {
   "cell_type": "code",
   "execution_count": 24,
   "metadata": {},
   "outputs": [],
   "source": [
    "train_marked = {'aldosterone': 0, 'cortisol': 1, 'estrogen': 1, 'glucagon': 0, 'insulin': 1, 'luteinizing hormone': 0, 'progesterone': 1, 'prolactin': 0, 'prostaglandins': 1, 'somatostatin': 0, 'testosterone': 1, 'triiodothyronin t3': 0, 'thyroxine t4': 0, 'adrenocorticotropin': 0, 'vascular endothelial growth factor': 1, 'norepinephrine': 1, 'adiponectin': 0, 'adrenaline/epinephrine': 0, 'somatotrophin/growth hormone': 1, 'serotonin/5-hydroxytryptamine': 1, 'vitamin d/calciferol': 1, 'follicle-stimulating hormone/follitropin': 0}\n",
    "with open('./dataset/train_val_marking_fold_4.json', 'w') as outfile:\n",
    "    json.dump(train_marked,outfile)\n",
    "outfile.close()"
   ]
  },
  {
   "cell_type": "code",
   "execution_count": null,
   "metadata": {},
   "outputs": [],
   "source": []
  }
 ],
 "metadata": {
  "kernelspec": {
   "display_name": "Python 3",
   "language": "python",
   "name": "python3"
  },
  "language_info": {
   "codemirror_mode": {
    "name": "ipython",
    "version": 3
   },
   "file_extension": ".py",
   "mimetype": "text/x-python",
   "name": "python",
   "nbconvert_exporter": "python",
   "pygments_lexer": "ipython3",
   "version": "3.7.3"
  }
 },
 "nbformat": 4,
 "nbformat_minor": 2
}
